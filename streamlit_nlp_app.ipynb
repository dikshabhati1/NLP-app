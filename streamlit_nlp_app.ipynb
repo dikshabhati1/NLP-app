{
  "nbformat": 4,
  "nbformat_minor": 0,
  "metadata": {
    "colab": {
      "name": "streamlit nlp app.ipynb",
      "provenance": [],
      "collapsed_sections": [],
      "authorship_tag": "ABX9TyOwbq1NJ4tgHKX/+nvxO+1u",
      "include_colab_link": true
    },
    "kernelspec": {
      "name": "python3",
      "display_name": "Python 3"
    }
  },
  "cells": [
    {
      "cell_type": "markdown",
      "metadata": {
        "id": "view-in-github",
        "colab_type": "text"
      },
      "source": [
        "<a href=\"https://colab.research.google.com/github/dikshabhati1/NLP-app/blob/main/streamlit_nlp_app.ipynb\" target=\"_parent\"><img src=\"https://colab.research.google.com/assets/colab-badge.svg\" alt=\"Open In Colab\"/></a>"
      ]
    },
    {
      "cell_type": "code",
      "metadata": {
        "id": "mvrKcAj0M-WX"
      },
      "source": [
        "!pip install streamlit"
      ],
      "execution_count": null,
      "outputs": []
    },
    {
      "cell_type": "code",
      "metadata": {
        "id": "KAIJiYH2N9Hm"
      },
      "source": [
        "import streamlit as st \n",
        "import os\n",
        " \n",
        "# NLP Pkgs\n",
        "from textblob import TextBlob \n",
        "import spacy\n",
        "from gensim.summarization import summarize"
      ],
      "execution_count": null,
      "outputs": []
    },
    {
      "cell_type": "code",
      "metadata": {
        "id": "il14NF1R8mAJ",
        "colab": {
          "base_uri": "https://localhost:8080/"
        },
        "outputId": "55e8a891-bdd1-4963-a60d-91b80fc3d3c9"
      },
      "source": [
        "%%writefile app.py\n",
        "import streamlit as st \n",
        "import os\n",
        "import nltk\n",
        "nltk.download('punkt')\n",
        " \n",
        " \n",
        "# NLP Pkgs\n",
        "from textblob import TextBlob \n",
        "import spacy\n",
        "from gensim.summarization import summarize\n",
        "sp = spacy.load('en_core_web_sm')\n",
        "from spacy import displacy\n",
        " \n",
        "\n",
        "HTML_WRAPPER = \"\"\"<div style=\"overflow-x: auto; border: 1px solid #e6e9ef; border-radius: 0.25rem; padding: 1rem\">{}</div>\"\"\"\n",
        "\n",
        "# Function to Analyse Tokens and Lemma\n",
        "@st.cache\n",
        "def text_analyzer(my_text):\n",
        "    nlp = spacy.load('en')\n",
        "    docx = nlp(my_text)\n",
        "    # tokens = [ token.text for token in docx]\n",
        "    allData = [('\"Token\":{},\\n\"Lemma\":{}'.format(token.text,token.lemma_))for token in docx ]\n",
        "    return allData\n",
        " \n",
        "# Function For Extracting Entities\n",
        "@st.cache\n",
        "def entity_analyzer(my_text):\n",
        "    nlp = spacy.load('en')\n",
        "    docx = nlp(my_text)\n",
        "    tokens = [ token.text for token in docx]\n",
        "    entities = [(entity.text,entity.label_)for entity in docx.ents]\n",
        "    allData = ['\"Token\":{},\\n\"Entities\":{}'.format(tokens,entities)]\n",
        "    return allData\n",
        " \n",
        "def main():\n",
        "    \"\"\" NLP Based App with Streamlit \"\"\"\n",
        " \n",
        "    # Title\n",
        "    st.title(\"NLP with Streamlit\")\n",
        "    st.subheader(\"Natural Language Processing App\")\n",
        "\n",
        " \n",
        "    # Tokenization\n",
        "    if st.checkbox(\"Show Tokens and Lemma\"):\n",
        "        st.subheader(\"Tokenize Your Text\")\n",
        " \n",
        "        message = st.text_area(\"Enter Text\",\"Type Here ..\")\n",
        "        if st.button(\"Analyze\"):\n",
        "            nlp_result = text_analyzer(message)\n",
        "            st.json(nlp_result)\n",
        " \n",
        "    # Entity Extraction\n",
        "    if st.checkbox(\"Show Named Entities\"):\n",
        "        st.subheader(\"Analyze Your Text\")\n",
        " \n",
        "        message = st.text_area(\"Enter Text\",\"Type Here ..\")\n",
        "        if st.button(\"Extract\"):\n",
        "            entity_result = entity_analyzer(message)\n",
        "            st.json(entity_result)\n",
        " \n",
        "    # Sentiment Analysis\n",
        "    if st.checkbox(\"Show Sentiment Analysis\"):\n",
        "        st.subheader(\"Analyse Your Text\")\n",
        " \n",
        "        message = st.text_area(\"Enter Text\",\"Type Here ..\")\n",
        "        if st.button(\"Analyze\"):\n",
        "            blob = TextBlob(message)\n",
        "            result_sentiment = blob.sentiment\n",
        "            st.success(result_sentiment)\n",
        " \n",
        "    # Summarization\n",
        "    if st.checkbox(\"Show Text Summarization\"):\n",
        "        st.subheader(\"Summarize Your Text\")\n",
        " \n",
        "        message = st.text_area(\"Enter Text\",\"Type Here ..\")\n",
        "        if st.button(\"Summarize\"):\n",
        "            st.text(\"Using Gensim Summarizer ..\")\n",
        "            summary_result = summarize(message)\n",
        "            st.success(summary_result)\n",
        " \n",
        "     # NER DIAGRAM\n",
        "    if st.checkbox(\"NER Diagram\"):\n",
        "        st.subheader(\"SDiagram\")\n",
        " \n",
        "        message = st.text_area(\"Enter Text\",\"Type Here ..\")\n",
        "        if st.button(\"Summarize\"):\n",
        "            sen = sp(message)\n",
        "            html = displacy.render(docx,style=\"ent\")\n",
        "            st.write(HTML_WRAPPER.format(html),unsafe_allow_html=True)\n",
        "\n",
        "            # result_sentiment = displacy.render(sen, style='ent', jupyter=True)\n",
        "            # st.success(result_sentiment)\n",
        " \n",
        "    st.sidebar.subheader(\"About App\")\n",
        "    st.sidebar.text(\"NLP App with Streamlit\")\n",
        "    st.sidebar.markdown(\"\"\"\n",
        "    #### Description\n",
        "    + This is a Natural Language Processing(NLP) Based App useful for basic NLP task\n",
        "    Tokenization,NER,Sentiment,Summarization\n",
        "    \"\"\")\n",
        " \n",
        "if __name__ == '__main__':\n",
        "    main()"
      ],
      "execution_count": 2,
      "outputs": [
        {
          "output_type": "stream",
          "text": [
            "Writing app.py\n"
          ],
          "name": "stdout"
        }
      ]
    },
    {
      "cell_type": "code",
      "metadata": {
        "colab": {
          "base_uri": "https://localhost:8080/"
        },
        "id": "K5Bk57g_M-EB",
        "outputId": "ab240856-dc91-4352-cff0-933dcecf2d18"
      },
      "source": [
        "!pip install pyngrok"
      ],
      "execution_count": 3,
      "outputs": [
        {
          "output_type": "stream",
          "text": [
            "Collecting pyngrok\n",
            "\u001b[?25l  Downloading https://files.pythonhosted.org/packages/6b/4e/a2fe095bbe17cf26424c4abcd22a0490e22d01cc628f25af5e220ddbf6f0/pyngrok-5.0.5.tar.gz (745kB)\n",
            "\r\u001b[K     |▍                               | 10kB 16.9MB/s eta 0:00:01\r\u001b[K     |▉                               | 20kB 22.8MB/s eta 0:00:01\r\u001b[K     |█▎                              | 30kB 16.9MB/s eta 0:00:01\r\u001b[K     |█▊                              | 40kB 15.1MB/s eta 0:00:01\r\u001b[K     |██▏                             | 51kB 8.1MB/s eta 0:00:01\r\u001b[K     |██▋                             | 61kB 9.3MB/s eta 0:00:01\r\u001b[K     |███                             | 71kB 8.0MB/s eta 0:00:01\r\u001b[K     |███▌                            | 81kB 8.7MB/s eta 0:00:01\r\u001b[K     |████                            | 92kB 9.3MB/s eta 0:00:01\r\u001b[K     |████▍                           | 102kB 7.7MB/s eta 0:00:01\r\u001b[K     |████▉                           | 112kB 7.7MB/s eta 0:00:01\r\u001b[K     |█████▎                          | 122kB 7.7MB/s eta 0:00:01\r\u001b[K     |█████▊                          | 133kB 7.7MB/s eta 0:00:01\r\u001b[K     |██████▏                         | 143kB 7.7MB/s eta 0:00:01\r\u001b[K     |██████▋                         | 153kB 7.7MB/s eta 0:00:01\r\u001b[K     |███████                         | 163kB 7.7MB/s eta 0:00:01\r\u001b[K     |███████▌                        | 174kB 7.7MB/s eta 0:00:01\r\u001b[K     |████████                        | 184kB 7.7MB/s eta 0:00:01\r\u001b[K     |████████▍                       | 194kB 7.7MB/s eta 0:00:01\r\u001b[K     |████████▉                       | 204kB 7.7MB/s eta 0:00:01\r\u001b[K     |█████████▎                      | 215kB 7.7MB/s eta 0:00:01\r\u001b[K     |█████████▊                      | 225kB 7.7MB/s eta 0:00:01\r\u001b[K     |██████████▏                     | 235kB 7.7MB/s eta 0:00:01\r\u001b[K     |██████████▌                     | 245kB 7.7MB/s eta 0:00:01\r\u001b[K     |███████████                     | 256kB 7.7MB/s eta 0:00:01\r\u001b[K     |███████████▍                    | 266kB 7.7MB/s eta 0:00:01\r\u001b[K     |███████████▉                    | 276kB 7.7MB/s eta 0:00:01\r\u001b[K     |████████████▎                   | 286kB 7.7MB/s eta 0:00:01\r\u001b[K     |████████████▊                   | 296kB 7.7MB/s eta 0:00:01\r\u001b[K     |█████████████▏                  | 307kB 7.7MB/s eta 0:00:01\r\u001b[K     |█████████████▋                  | 317kB 7.7MB/s eta 0:00:01\r\u001b[K     |██████████████                  | 327kB 7.7MB/s eta 0:00:01\r\u001b[K     |██████████████▌                 | 337kB 7.7MB/s eta 0:00:01\r\u001b[K     |███████████████                 | 348kB 7.7MB/s eta 0:00:01\r\u001b[K     |███████████████▍                | 358kB 7.7MB/s eta 0:00:01\r\u001b[K     |███████████████▉                | 368kB 7.7MB/s eta 0:00:01\r\u001b[K     |████████████████▎               | 378kB 7.7MB/s eta 0:00:01\r\u001b[K     |████████████████▊               | 389kB 7.7MB/s eta 0:00:01\r\u001b[K     |█████████████████▏              | 399kB 7.7MB/s eta 0:00:01\r\u001b[K     |█████████████████▋              | 409kB 7.7MB/s eta 0:00:01\r\u001b[K     |██████████████████              | 419kB 7.7MB/s eta 0:00:01\r\u001b[K     |██████████████████▌             | 430kB 7.7MB/s eta 0:00:01\r\u001b[K     |███████████████████             | 440kB 7.7MB/s eta 0:00:01\r\u001b[K     |███████████████████▍            | 450kB 7.7MB/s eta 0:00:01\r\u001b[K     |███████████████████▉            | 460kB 7.7MB/s eta 0:00:01\r\u001b[K     |████████████████████▎           | 471kB 7.7MB/s eta 0:00:01\r\u001b[K     |████████████████████▊           | 481kB 7.7MB/s eta 0:00:01\r\u001b[K     |█████████████████████           | 491kB 7.7MB/s eta 0:00:01\r\u001b[K     |█████████████████████▌          | 501kB 7.7MB/s eta 0:00:01\r\u001b[K     |██████████████████████          | 512kB 7.7MB/s eta 0:00:01\r\u001b[K     |██████████████████████▍         | 522kB 7.7MB/s eta 0:00:01\r\u001b[K     |██████████████████████▉         | 532kB 7.7MB/s eta 0:00:01\r\u001b[K     |███████████████████████▎        | 542kB 7.7MB/s eta 0:00:01\r\u001b[K     |███████████████████████▊        | 552kB 7.7MB/s eta 0:00:01\r\u001b[K     |████████████████████████▏       | 563kB 7.7MB/s eta 0:00:01\r\u001b[K     |████████████████████████▋       | 573kB 7.7MB/s eta 0:00:01\r\u001b[K     |█████████████████████████       | 583kB 7.7MB/s eta 0:00:01\r\u001b[K     |█████████████████████████▌      | 593kB 7.7MB/s eta 0:00:01\r\u001b[K     |██████████████████████████      | 604kB 7.7MB/s eta 0:00:01\r\u001b[K     |██████████████████████████▍     | 614kB 7.7MB/s eta 0:00:01\r\u001b[K     |██████████████████████████▉     | 624kB 7.7MB/s eta 0:00:01\r\u001b[K     |███████████████████████████▎    | 634kB 7.7MB/s eta 0:00:01\r\u001b[K     |███████████████████████████▊    | 645kB 7.7MB/s eta 0:00:01\r\u001b[K     |████████████████████████████▏   | 655kB 7.7MB/s eta 0:00:01\r\u001b[K     |████████████████████████████▋   | 665kB 7.7MB/s eta 0:00:01\r\u001b[K     |█████████████████████████████   | 675kB 7.7MB/s eta 0:00:01\r\u001b[K     |█████████████████████████████▌  | 686kB 7.7MB/s eta 0:00:01\r\u001b[K     |██████████████████████████████  | 696kB 7.7MB/s eta 0:00:01\r\u001b[K     |██████████████████████████████▍ | 706kB 7.7MB/s eta 0:00:01\r\u001b[K     |██████████████████████████████▉ | 716kB 7.7MB/s eta 0:00:01\r\u001b[K     |███████████████████████████████▏| 727kB 7.7MB/s eta 0:00:01\r\u001b[K     |███████████████████████████████▋| 737kB 7.7MB/s eta 0:00:01\r\u001b[K     |████████████████████████████████| 747kB 7.7MB/s \n",
            "\u001b[?25hRequirement already satisfied: PyYAML in /usr/local/lib/python3.7/dist-packages (from pyngrok) (3.13)\n",
            "Building wheels for collected packages: pyngrok\n",
            "  Building wheel for pyngrok (setup.py) ... \u001b[?25l\u001b[?25hdone\n",
            "  Created wheel for pyngrok: filename=pyngrok-5.0.5-cp37-none-any.whl size=19246 sha256=6111752d5d8dcd185a5353ad1bf24600bbb04a37dd9fd1a1d1e379088c271263\n",
            "  Stored in directory: /root/.cache/pip/wheels/0c/13/64/5ebbcc22eaf53fdf5766b397c1fb17c83f5775fdccf0ea1b88\n",
            "Successfully built pyngrok\n",
            "Installing collected packages: pyngrok\n",
            "Successfully installed pyngrok-5.0.5\n"
          ],
          "name": "stdout"
        }
      ]
    },
    {
      "cell_type": "code",
      "metadata": {
        "id": "0XiNomDfNGe6"
      },
      "source": [
        "from pyngrok import ngrok"
      ],
      "execution_count": 4,
      "outputs": []
    },
    {
      "cell_type": "code",
      "metadata": {
        "id": "I2JBWziuNR9q"
      },
      "source": [
        "public_url = ngrok.connect(port=80)"
      ],
      "execution_count": null,
      "outputs": []
    },
    {
      "cell_type": "code",
      "metadata": {
        "id": "L0hnh5DRNT9C"
      },
      "source": [
        "print(public_url)\n",
        "!streamlit run --server.port 80 app.py >/dev/null"
      ],
      "execution_count": null,
      "outputs": []
    }
  ]
}